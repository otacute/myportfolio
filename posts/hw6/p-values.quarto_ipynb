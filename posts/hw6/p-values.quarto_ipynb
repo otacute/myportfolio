{
  "cells": [
    {
      "cell_type": "markdown",
      "metadata": {},
      "source": [
        "---\n",
        "title: \"Homework6\"\n",
        "author: \"hg.park\"\n",
        "date: \"2024-08-05\"\n",
        "categories: [Homework]\n",
        "jupyter: python3\n",
        "---\n",
        "\n",
        "  \n",
        "# 신형 자동차의 에너지 소비효율 등급 \n",
        "\n",
        "## ADP 교재 57p 연습 문제\n",
        "\n",
        "슬통 자동차는 매해 출시되는 신형 자동차의 에너지 소비효율 등급을 1등급으로 유지하고 있다. \n",
        "22년 개발된 신형 모델이 한국 자동차 평가원에서 설정한 에너지 소비 효율등급 1등급을 받을 수 있을지 검정하려한다. \n",
        "평가원에 따르면 1등급의 기준은 평균 복합 에너지 소비효율이 16.0 이상인 경우 부여한다고 한다. 다음은 신형 자동차 15대의 복합 에너지소비효율 측정한 결과이다.\n",
        "\n",
        "$$\n",
        "15.078, 15.752, 15.549, 15.56, 16.098, 13.277, 15.462, 16.116, 15.214, 16.93, 14.118, 14.927,15.382, 16.709, 16.804\n",
        "$$\n",
        "\n",
        "표본에 의하여 판단해볼때, 현대자동차의 신형 모델은 에너지 효율 1등급으로 판단할 수 있을지 판단해보시오. (유의수준 1%로 설정)\n",
        "\n",
        "### 2. 검정을 위한 가설을 명확하게 서술하시오.\n",
        "\n",
        "$$\n",
        "귀무가설\\\n",
        "H_0: \\mu \\geq 16 \\\\\n",
        "대립가설\\\n",
        "H_a: \\mu < 16 \\\\\n",
        "\\mu_0 = 16\n",
        "$$\n",
        "\n",
        "### 3. 검정통계량을 계산하시오.\n",
        "\n",
        "$$\n",
        "t = \\frac{\\bar{x} - \\mu_0}{\\frac{s}{\\sqrt{n}}}\n",
        "$$\n"
      ],
      "id": "8fbc8247"
    },
    {
      "cell_type": "code",
      "metadata": {},
      "source": [
        "import numpy as np\n",
        "\n",
        "energy = [15.078, 15.752, 15.549, 15.56, 16.098, 13.277, 15.462, 16.116, 15.214, 16.93, 14.118, 14.927,15.382, 16.709, 16.804]\n",
        "\n",
        "# 표본 평균\n",
        "x_bar = np.mean(energy)\n",
        "# x_bar = sum(energy) / len(energy)\n",
        "print(\"표본 평균 x_bar =\", x_bar.round(2))\n",
        "\n",
        "# 귀무가설 m0\n",
        "m0 = 16\n",
        "print(\"귀무 가설의 m0 =\", m0)\n",
        "\n",
        "# 표본 표준 편차\n",
        "s = np.std(energy, ddof=1)\n",
        "print(\"표본 표준 편차 s =\", s.round(2))\n",
        "\n",
        "# 표본의 개수\n",
        "n = len(energy)\n",
        "print(\"표본 갯수 n =\", n)\n",
        "\n",
        "# t 분포를 따르는 표준화를 한 후 t값\n",
        "T = (x_bar - m0) / (s/np.sqrt(n))\n",
        "print(\"검정통계량 =\", T.round(2))"
      ],
      "id": "c1884a48",
      "execution_count": null,
      "outputs": []
    },
    {
      "cell_type": "markdown",
      "metadata": {},
      "source": [
        "### 4. p‑value을 구하세요.\n",
        "\n",
        "![단측검정 p-value시각화](p-value.jpg)\n"
      ],
      "id": "f9fab82e"
    },
    {
      "cell_type": "code",
      "metadata": {},
      "source": [
        "from scipy.stats import t\n",
        "\n",
        "# 자유도 df\n",
        "df = len(energy) - 1\n",
        "\n",
        "p_values = t.cdf(T, df)\n",
        "print(\"p-values =\", p_values.round(2))"
      ],
      "id": "ef6384c5",
      "execution_count": null,
      "outputs": []
    },
    {
      "cell_type": "markdown",
      "metadata": {},
      "source": [
        "### 6. 현대자동차의 신형 모델의 평균 복합 에너지 소비효율에 대하여 95% 신뢰구간을 구해보세요.\n"
      ],
      "id": "4ac5dbe6"
    },
    {
      "cell_type": "code",
      "metadata": {},
      "source": [
        "CI_r = x_bar + t.ppf(0.975, df) * (s/np.sqrt(n))\n",
        "CI_l = x_bar + t.ppf(0.025, df) * (s/np.sqrt(n))\n",
        "print(\"평균 복합 에너지 소비 효율의 95%신뢰 구간 = (\", CI_l.round(2), \"), (\", CI_r.round(2) ,\")\")"
      ],
      "id": "2cd1aee8",
      "execution_count": null,
      "outputs": []
    }
  ],
  "metadata": {
    "kernelspec": {
      "name": "python3",
      "language": "python",
      "display_name": "Python 3 (ipykernel)",
      "path": "C:\\Users\\USER\\.conda\\envs\\lsbigdata\\share\\jupyter\\kernels\\python3"
    }
  },
  "nbformat": 4,
  "nbformat_minor": 5
}
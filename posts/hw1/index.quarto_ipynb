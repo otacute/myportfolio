{
  "cells": [
    {
      "cell_type": "markdown",
      "metadata": {},
      "source": [
        "---\n",
        "title: \"Welcome To My Blog\"\n",
        "author: \"Tristan O'Malley\"\n",
        "date: \"2024-07-12\"\n",
        "categories: [news]\n",
        "jupyter: python3\n",
        "---\n",
        "\n",
        "\n",
        "\n",
        "\n",
        "\n",
        "### 1. p84 혼자서 해보기\n",
        "\n",
        "Q1. 다음 표의 내용을 데이터 프레임으로 만들어 출력해 보세요.\n"
      ],
      "id": "7612911b"
    },
    {
      "cell_type": "code",
      "metadata": {},
      "source": [
        "import pandas as pd\n",
        "df = pd.DataFrame({'제품' : ['사과','딸기','수박'],\n",
        "      '가격' : [1800, 1500, 3000],\n",
        "      '판매량' : [24,38,13]})\n",
        "df"
      ],
      "id": "e8474fbf",
      "execution_count": null,
      "outputs": []
    },
    {
      "cell_type": "markdown",
      "metadata": {},
      "source": [
        "Q2. 앞에서 만든 데이터 프레임을 이용해 과일의 가격 평균과 판매량 평균을 구해 보세요.\n"
      ],
      "id": "31a56575"
    },
    {
      "cell_type": "code",
      "metadata": {},
      "source": [
        "df['가격'].mean()\n",
        "df['판매량'].mean()"
      ],
      "id": "98122dd0",
      "execution_count": null,
      "outputs": []
    },
    {
      "cell_type": "markdown",
      "metadata": {},
      "source": [
        "### 2. 115p 혼자서해보기\n",
        "\n",
        "**mpg 데이터를 이용해 분석 문제를 해결해 보세요.** *mpg 데이터의 변수명은 긴 단어를 짧게 줄인 축약어로 되어 있습니다. city는 도시 연비, hwy는 고속도로 연비를 의미합니다. 변수명을 이해하기 쉬운 단어로 바꾸려고 합니다.*\n",
        "\n",
        "Q1. mpg 데이터를 불러와 복사본을 만드세요.\n"
      ],
      "id": "5ef40e44"
    },
    {
      "cell_type": "code",
      "metadata": {},
      "source": [
        "mpg = pd.read_csv('data/mpg.csv')\n",
        "mpg_copy = mpg.copy()\n",
        "mpg_copy"
      ],
      "id": "1e13ed4f",
      "execution_count": null,
      "outputs": []
    },
    {
      "cell_type": "markdown",
      "metadata": {},
      "source": [
        "Q2. 복사본 데이터를 이용해 cty는 city로, hwy는 highway로 수정합니다.\n"
      ],
      "id": "7dd03591"
    },
    {
      "cell_type": "code",
      "metadata": {},
      "source": [
        "mpg_copy = mpg_copy.rename(columns = {'cty':'city', 'hwy':'highway'})"
      ],
      "id": "c3b3a4b2",
      "execution_count": null,
      "outputs": []
    },
    {
      "cell_type": "markdown",
      "metadata": {},
      "source": [
        "Q3. 데이터 일부를 출력해 변수명이 바뀌었는지 확인해보세요. 다음과 같은 결과물이 출력되어야 합니다.\n"
      ],
      "id": "7568ab9e"
    },
    {
      "cell_type": "code",
      "metadata": {},
      "source": [
        "mpg_copy"
      ],
      "id": "94dc2b0a",
      "execution_count": null,
      "outputs": []
    },
    {
      "cell_type": "markdown",
      "metadata": {},
      "source": [
        "### 3.p130 분석도전\n",
        "\n",
        "*midwest.csv는 미국 동북중부 437개 지역의 인구 통계 정보를 담고 있습니다. midwest.csv를 이용해 데이터 분석 문제를 해결해 보세요*\n",
        "\n",
        "Q1. midwest.csv를 불러와 데이터의 특징을 파악하세요\n"
      ],
      "id": "82c885f3"
    },
    {
      "cell_type": "code",
      "metadata": {},
      "source": [
        "import pandas as pd\n",
        "df2 = pd.read_csv('data/midwest.csv')\n",
        "df2"
      ],
      "id": "cd34a7d0",
      "execution_count": null,
      "outputs": []
    },
    {
      "cell_type": "code",
      "metadata": {},
      "source": [
        "df2.head()"
      ],
      "id": "6a6b72e0",
      "execution_count": null,
      "outputs": []
    },
    {
      "cell_type": "code",
      "metadata": {},
      "source": [
        "df2.tail()"
      ],
      "id": "17f652d9",
      "execution_count": null,
      "outputs": []
    },
    {
      "cell_type": "code",
      "metadata": {},
      "source": [
        "df2.info()"
      ],
      "id": "835f1e2f",
      "execution_count": null,
      "outputs": []
    },
    {
      "cell_type": "code",
      "metadata": {},
      "source": [
        "df2.describe()"
      ],
      "id": "cd094160",
      "execution_count": null,
      "outputs": []
    },
    {
      "cell_type": "code",
      "metadata": {},
      "source": [
        "df2.shape"
      ],
      "id": "3fb497cf",
      "execution_count": null,
      "outputs": []
    },
    {
      "cell_type": "markdown",
      "metadata": {},
      "source": [
        "Q2. poptotal변수를 total로 popasian변수를 asian으로 수정하세요\n"
      ],
      "id": "b8c6ffdb"
    },
    {
      "cell_type": "code",
      "metadata": {},
      "source": [
        "df2 = df2.rename(columns={'poptotal':'total', 'popasian':'asian'})"
      ],
      "id": "1e4ec54a",
      "execution_count": null,
      "outputs": []
    },
    {
      "cell_type": "code",
      "metadata": {},
      "source": [
        "df2.nunique()"
      ],
      "id": "036f979f",
      "execution_count": null,
      "outputs": []
    },
    {
      "cell_type": "markdown",
      "metadata": {},
      "source": [
        "Q3. total, asian 변수를 이용해 전체인구대비 아시아 인구 백분율 파생변수를 추가하고 히스토그램을 만들어 보세요\n"
      ],
      "id": "e44aedcc"
    },
    {
      "cell_type": "code",
      "metadata": {},
      "source": [
        "df2['percent'] = (df2['asian'] / df2['total']) * 100\n",
        "df2"
      ],
      "id": "f4834225",
      "execution_count": null,
      "outputs": []
    },
    {
      "cell_type": "code",
      "metadata": {},
      "source": [
        "import matplotlib.pyplot as plt\n",
        "df2['percent'].plot.hist()\n",
        "plt.show()"
      ],
      "id": "a2e5cc63",
      "execution_count": null,
      "outputs": []
    },
    {
      "cell_type": "code",
      "metadata": {},
      "source": [
        "# 아시아 인구 백분율 전체 평균\n",
        "df2['percent'].mean()"
      ],
      "id": "dd0f556c",
      "execution_count": null,
      "outputs": []
    },
    {
      "cell_type": "code",
      "metadata": {},
      "source": [
        "# 아시아 인구 백분율 전체 평균\n",
        "import numpy as np\n",
        "df2['대소비교'] = np.where(df2['percent']>df2['percent'].mean(), 'large', 'small')\n",
        "df2"
      ],
      "id": "e4a19f0f",
      "execution_count": null,
      "outputs": []
    },
    {
      "cell_type": "markdown",
      "metadata": {},
      "source": [
        "Q5. large와 small에 해당하는 지역이 얼마나 많은지 빈도표와 빈도 막대 그래프를 만들어 확인해보세요\n"
      ],
      "id": "68ad679e"
    },
    {
      "cell_type": "code",
      "metadata": {},
      "source": [
        "count = df2['대소비교'].value_counts()"
      ],
      "id": "dc08fe42",
      "execution_count": null,
      "outputs": []
    },
    {
      "cell_type": "code",
      "metadata": {},
      "source": [
        "import matplotlib.pyplot as plt\n",
        "count.plot.bar(rot=0)\n",
        "plt.show()\n",
        "plt.clf()"
      ],
      "id": "84fe7303",
      "execution_count": null,
      "outputs": []
    }
  ],
  "metadata": {
    "kernelspec": {
      "name": "python3",
      "language": "python",
      "display_name": "Python 3 (ipykernel)",
      "path": "C:\\Users\\USER\\AppData\\Roaming\\Python\\share\\jupyter\\kernels\\python3"
    }
  },
  "nbformat": 4,
  "nbformat_minor": 5
}
{
  "cells": [
    {
      "cell_type": "markdown",
      "metadata": {},
      "source": [
        "---\n",
        "title: \"HW1\"\n",
        "jupyter: python3\n",
        "---"
      ],
      "id": "3248c103"
    },
    {
      "cell_type": "code",
      "metadata": {},
      "source": [
        "import pandas as pd\n",
        "df = pd.DataFrame({'제품' : ['사과','딸기','수박'],\n",
        "      '가격' : [1800, 1500, 3000],\n",
        "      '판매량' : [24,38,13]})\n",
        "df"
      ],
      "id": "1a4cf78e",
      "execution_count": null,
      "outputs": []
    }
  ],
  "metadata": {
    "kernelspec": {
      "name": "python3",
      "language": "python",
      "display_name": "Python 3 (ipykernel)",
      "path": "C:\\Users\\USER\\AppData\\Roaming\\Python\\share\\jupyter\\kernels\\python3"
    }
  },
  "nbformat": 4,
  "nbformat_minor": 5
}
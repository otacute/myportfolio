{
  "cells": [
    {
      "cell_type": "markdown",
      "metadata": {},
      "source": [
        "---\n",
        "title: \"testwebsite\"\n",
        "toc: false\n",
        "about:\n",
        "    id: hero-heading\n",
        "    template: jolla\n",
        "    image: 커비.jpg\n",
        "    links:\n",
        "        - icon: github\n",
        "          text: github\n",
        "          href: https://otacute.github.io/myportfolio/\n",
        "jupyter: python3\n",
        "---\n",
        "\n",
        "\n",
        "\n",
        "\n",
        "This is a Quarto website.\n",
        "\n",
        "To learn more about Quarto websites visit <https://quarto.org/docs/websites>.\n"
      ],
      "id": "26034e63"
    },
    {
      "cell_type": "code",
      "metadata": {},
      "source": [
        "1 + 1"
      ],
      "id": "c4f7ccf9",
      "execution_count": null,
      "outputs": []
    },
    {
      "cell_type": "markdown",
      "metadata": {},
      "source": [
        "## 홈페이지 첫 화면입니다!\n",
        "\n",
        "안녕하세요, 데이터 분석 한결입니다.\n"
      ],
      "id": "5825258c"
    }
  ],
  "metadata": {
    "kernelspec": {
      "name": "python3",
      "language": "python",
      "display_name": "Python 3 (ipykernel)",
      "path": "C:\\Users\\USER\\AppData\\Roaming\\Python\\share\\jupyter\\kernels\\python3"
    }
  },
  "nbformat": 4,
  "nbformat_minor": 5
}